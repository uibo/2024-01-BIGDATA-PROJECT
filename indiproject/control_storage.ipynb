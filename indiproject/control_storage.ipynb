{
 "cells": [
  {
   "cell_type": "code",
   "execution_count": 8,
   "id": "cd214997-7067-4390-83ad-3a4fea0342f5",
   "metadata": {},
   "outputs": [],
   "source": [
    "import subprocess\n",
    "import sys"
   ]
  },
  {
   "cell_type": "code",
   "execution_count": 9,
   "id": "6c1ae308-237d-4731-81b4-16723312381d",
   "metadata": {},
   "outputs": [],
   "source": [
    "script_path = \"s3_folder.py\"\n",
    "local_file_path = \"./data/cleaning_data.csv\"\n",
    "bucket_name = \"usedgoodsdata\"\n",
    "s3_path = 'bunjang/'\n",
    "public_opt = '0'\n",
    "down_opt = '0'"
   ]
  },
  {
   "cell_type": "code",
   "execution_count": 10,
   "id": "43ae09a8-e026-4855-b686-456b1dd9b853",
   "metadata": {},
   "outputs": [],
   "source": [
    "args = [local_file_path, bucket_name, s3_path, public_opt, down_opt] "
   ]
  },
  {
   "cell_type": "code",
   "execution_count": 11,
   "id": "4bc8a836-46c3-4a26-89ea-32f9e78e2b54",
   "metadata": {},
   "outputs": [
    {
     "name": "stdout",
     "output_type": "stream",
     "text": [
      "finish upload\n",
      "local_path: ./data/cleaning_data.csv\n",
      "bket_name: usedgoodsdata\n",
      "s3_path: bunjang/cleaning_data.csv\n"
     ]
    }
   ],
   "source": [
    "run_other_python_script(script_path, args)"
   ]
  }
 ],
 "metadata": {
  "kernelspec": {
   "display_name": "forproject",
   "language": "python",
   "name": "venv"
  },
  "language_info": {
   "codemirror_mode": {
    "name": "ipython",
    "version": 3
   },
   "file_extension": ".py",
   "mimetype": "text/x-python",
   "name": "python",
   "nbconvert_exporter": "python",
   "pygments_lexer": "ipython3",
   "version": "3.10.12"
  }
 },
 "nbformat": 4,
 "nbformat_minor": 5
}
