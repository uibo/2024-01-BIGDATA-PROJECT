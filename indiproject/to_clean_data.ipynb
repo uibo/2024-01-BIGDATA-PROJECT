{
 "cells": [
  {
   "cell_type": "code",
   "execution_count": 5,
   "id": "70976624-a2a3-464e-b6dc-e98bf53cb559",
   "metadata": {},
   "outputs": [],
   "source": [
    "import pandas as pd\n",
    "import numpy as np"
   ]
  },
  {
   "cell_type": "code",
   "execution_count": null,
   "id": "88edde19-113e-4d5a-b952-f3611cf00287",
   "metadata": {},
   "outputs": [],
   "source": [
    "def get_first_word(text):\n",
    "    return text.split()[0]"
   ]
  },
  {
   "cell_type": "code",
   "execution_count": null,
   "id": "81f06f58-563f-4aa7-91aa-b03fc079449a",
   "metadata": {},
   "outputs": [],
   "source": [
    "file_name = './data/data.csv'\n",
    "df = pd.read_csv(file_name)\n",
    "df.drop('Unnamed: 0',axis = 1, inplace = True)\n",
    "df.rename(columns={'0':'title', '1': 'price', '2':'date', '3':'region'},inplace = True)"
   ]
  },
  {
   "cell_type": "code",
   "execution_count": 6,
   "id": "0e92061d-cd37-42ca-b93d-4a4dfaaaaae2",
   "metadata": {},
   "outputs": [],
   "source": [
    "df = df[~df['date'].str.contains('AD')]\n",
    "df = df[~df['date'].str.contains('광고')]\n",
    "df = df[~df['title'].str.contains('삽니다')]\n",
    "df = df[~df['title'].str.contains('매입')]\n",
    "df = df[~df['title'].str.contains('케이스')]\n",
    "df = df[~df['title'].str.contains('필름')]"
   ]
  },
  {
   "cell_type": "code",
   "execution_count": null,
   "id": "29ede04c-bbc6-4594-a767-a715135d642a",
   "metadata": {},
   "outputs": [],
   "source": [
    "df['region'] = df['region'].apply(get_first_word)"
   ]
  },
  {
   "cell_type": "code",
   "execution_count": null,
   "id": "66c68548-5976-40e1-ab0a-4ce0ac99cc7f",
   "metadata": {},
   "outputs": [],
   "source": [
    "df.reset_index(drop=True, inplace = True)"
   ]
  },
  {
   "cell_type": "code",
   "execution_count": null,
   "id": "fb316cf2-5dd8-48f0-b451-3f31ae3a4521",
   "metadata": {},
   "outputs": [],
   "source": [
    "df.to_csv('./data/cleaning_data.csv')"
   ]
  }
 ],
 "metadata": {
  "kernelspec": {
   "display_name": "forproject",
   "language": "python",
   "name": "venv"
  },
  "language_info": {
   "codemirror_mode": {
    "name": "ipython",
    "version": 3
   },
   "file_extension": ".py",
   "mimetype": "text/x-python",
   "name": "python",
   "nbconvert_exporter": "python",
   "pygments_lexer": "ipython3",
   "version": "3.10.12"
  }
 },
 "nbformat": 4,
 "nbformat_minor": 5
}
