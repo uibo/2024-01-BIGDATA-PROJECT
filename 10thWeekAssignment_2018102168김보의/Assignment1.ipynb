{
 "cells": [
  {
   "cell_type": "code",
   "execution_count": 1,
   "id": "96aed761-1605-4e78-9d81-9a33e4e1f5b4",
   "metadata": {},
   "outputs": [
    {
     "name": "stderr",
     "output_type": "stream",
     "text": [
      "24/05/21 21:45:56 WARN Utils: Your hostname, boui resolves to a loopback address: 127.0.1.1; using 192.168.148.131 instead (on interface ens33)\n",
      "24/05/21 21:45:56 WARN Utils: Set SPARK_LOCAL_IP if you need to bind to another address\n",
      "Setting default log level to \"WARN\".\n",
      "To adjust logging level use sc.setLogLevel(newLevel). For SparkR, use setLogLevel(newLevel).\n",
      "24/05/21 21:45:56 WARN NativeCodeLoader: Unable to load native-hadoop library for your platform... using builtin-java classes where applicable\n",
      "24/05/21 21:45:57 WARN Utils: Service 'SparkUI' could not bind on port 4040. Attempting port 4041.\n",
      "24/05/21 21:45:57 WARN Utils: Service 'SparkUI' could not bind on port 4041. Attempting port 4042.\n",
      "24/05/21 21:45:57 WARN Utils: Service 'SparkUI' could not bind on port 4042. Attempting port 4043.\n"
     ]
    }
   ],
   "source": [
    "import pyspark\n",
    "sc = pyspark.SparkContext(appName=\"AirbnbSparkonHDF\")"
   ]
  },
  {
   "cell_type": "code",
   "execution_count": 2,
   "id": "bb632e79-a824-4f40-87c3-cd20bc0b06fc",
   "metadata": {},
   "outputs": [
    {
     "name": "stderr",
     "output_type": "stream",
     "text": [
      "/home/boui/Desktop/github/2024-01-BIGDATA-PROJECT2/venv/lib/python3.10/site-packages/pyspark/sql/context.py:113: FutureWarning: Deprecated in 3.0.0. Use SparkSession.builder.getOrCreate() instead.\n",
      "  warnings.warn(\n"
     ]
    }
   ],
   "source": [
    "from pyspark.sql import SQLContext\n",
    "sqlContext = SQLContext(sc)"
   ]
  },
  {
   "cell_type": "code",
   "execution_count": 3,
   "id": "0e2d72de-fa09-4f04-a027-5f948d82f3c8",
   "metadata": {},
   "outputs": [
    {
     "name": "stderr",
     "output_type": "stream",
     "text": [
      "                                                                                \r"
     ]
    }
   ],
   "source": [
    "hdfs_path = \"hdfs://localhost:9000/user/hadoop/\"\n",
    "file_path = hdfs_path + \"airbnb.csv\"\n",
    "\n",
    "df_air = sqlContext.read.csv(path=file_path, header=True, inferSchema=True)"
   ]
  },
  {
   "cell_type": "code",
   "execution_count": 4,
   "id": "4f562ced-c825-4382-88cd-0b15131a6e63",
   "metadata": {},
   "outputs": [],
   "source": [
    "df_air = df_air.fillna({'overall_satisfaction':3.0})"
   ]
  },
  {
   "cell_type": "code",
   "execution_count": 5,
   "id": "690796c8-98c4-4524-8dc0-f3b092b85599",
   "metadata": {},
   "outputs": [],
   "source": [
    "df_air = df_air.withColumn('total_score', df_air.overall_satisfaction + df_air.reviews * 0.378)"
   ]
  },
  {
   "cell_type": "code",
   "execution_count": 6,
   "id": "d7ac19d3-a77b-45a6-a020-730ad039c18c",
   "metadata": {},
   "outputs": [],
   "source": [
    "df_air1 = df_air.select('room_id', 'host_id', 'total_score')\n",
    "from pyspark.sql.functions import struct, col\n",
    "df_air1 = df_air1.withColumn(\"room_id_str\", df_air1.room_id.cast(\"string\"))\n",
    "df_air1 = df_air1.withColumn(\"host_id_str\", df_air1.host_id.cast(\"string\"))"
   ]
  },
  {
   "cell_type": "code",
   "execution_count": 7,
   "id": "78a2ba17-1ff0-4c26-89db-8851588e0abf",
   "metadata": {},
   "outputs": [],
   "source": [
    "from pyspark.sql.functions import concat_ws\n",
    "df_air1 = df_air1.withColumn(\"room_id, host_id\", concat_ws(',', df_air1.room_id_str, df_air1.host_id_str)) \\\n",
    "            .select('room_id, host_id', 'total_score')"
   ]
  },
  {
   "cell_type": "code",
   "execution_count": 8,
   "id": "59277c76-44ad-4dd7-aafe-72651d7560c0",
   "metadata": {},
   "outputs": [
    {
     "name": "stdout",
     "output_type": "stream",
     "text": [
      "+-----------------+-----------+\n",
      "| room_id, host_id|total_score|\n",
      "+-----------------+-----------+\n",
      "|11757251,26873897|      2.134|\n",
      "|12186553,15589117|        3.0|\n",
      "| 2513870,12867663|        3.0|\n",
      "| 6551454,29224952|        3.0|\n",
      "|10153739,30283594|        3.0|\n",
      "|12808014,28197086|        3.0|\n",
      "|12897590,70637430|        3.0|\n",
      "| 5824015,30228015|        3.0|\n",
      "|12563549,34226261|        3.0|\n",
      "|13007354,20696611|        3.0|\n",
      "|12890140,54064917|        3.0|\n",
      "|10118379,30283594|        3.0|\n",
      "|11432300,60063253|        3.0|\n",
      "|13062783,44620221|        3.0|\n",
      "|10053369,30283594|        3.0|\n",
      "|11256475,54064917|        3.0|\n",
      "| 7052847,10336060|        3.0|\n",
      "| 9992532,30283594|        3.0|\n",
      "|  2443944,4442258|        3.0|\n",
      "| 12254824,2086352|        3.0|\n",
      "+-----------------+-----------+\n",
      "only showing top 20 rows\n",
      "\n"
     ]
    }
   ],
   "source": [
    "df_air1 = df_air1.orderBy('total_score', ascending = True)\n",
    "df_air1.show()"
   ]
  },
  {
   "cell_type": "code",
   "execution_count": 9,
   "id": "5149a417-f2d6-4b21-b903-7129f9783507",
   "metadata": {},
   "outputs": [],
   "source": [
    "df_air1.write.csv(hdfs_path + 'sorted_total_score_ascend.csv', header=True)"
   ]
  },
  {
   "cell_type": "code",
   "execution_count": 10,
   "id": "2531d211-a981-458c-b06d-2c1ca1e528de",
   "metadata": {},
   "outputs": [
    {
     "name": "stdout",
     "output_type": "stream",
     "text": [
      "+----------------+-----------+\n",
      "|room_id, host_id|total_score|\n",
      "+----------------+-----------+\n",
      "|    66288,324630|     149.53|\n",
      "|  414419,2027295|    111.474|\n",
      "| 1497879,2776892|    110.718|\n",
      "|    31796,119019|    103.536|\n",
      "|  815639,3637081|     98.622|\n",
      "|  916123,3637081|     98.622|\n",
      "| 1136972,1480518|     97.232|\n",
      "|    47521,119019|      89.55|\n",
      "|  1695275,324630|     88.294|\n",
      "|  2776143,324630|     84.892|\n",
      "|   197972,965697|     84.002|\n",
      "|  766700,3637081|     83.502|\n",
      "| 1615033,3637081|     82.746|\n",
      "|     22354,85770|     81.234|\n",
      "| 1141522,1407005|     81.234|\n",
      "| 1472520,6608084|     80.222|\n",
      "| 1472481,6608084|     79.844|\n",
      "|  708802,3648427|     79.844|\n",
      "| 1147871,1407005|     78.966|\n",
      "| 1544702,6608084|      78.71|\n",
      "+----------------+-----------+\n",
      "only showing top 20 rows\n",
      "\n"
     ]
    }
   ],
   "source": [
    "df_air1 = df_air1.orderBy('total_score', ascending = False)\n",
    "df_air1.show()"
   ]
  },
  {
   "cell_type": "code",
   "execution_count": 11,
   "id": "3ab0eec8-91d0-4eba-8a69-e3a67bb4ff72",
   "metadata": {},
   "outputs": [],
   "source": [
    "df_air1.write.csv(hdfs_path + 'sorted_total_score_descend.csv', header=True)"
   ]
  }
 ],
 "metadata": {
  "kernelspec": {
   "display_name": "Practicevenv",
   "language": "python",
   "name": "venv"
  },
  "language_info": {
   "codemirror_mode": {
    "name": "ipython",
    "version": 3
   },
   "file_extension": ".py",
   "mimetype": "text/x-python",
   "name": "python",
   "nbconvert_exporter": "python",
   "pygments_lexer": "ipython3",
   "version": "3.10.12"
  }
 },
 "nbformat": 4,
 "nbformat_minor": 5
}
