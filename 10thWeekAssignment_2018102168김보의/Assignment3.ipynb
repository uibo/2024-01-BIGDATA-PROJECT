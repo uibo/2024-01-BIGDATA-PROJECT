{
 "cells": [
  {
   "cell_type": "code",
   "execution_count": 24,
   "id": "a37fdbf5-5781-48e0-9d74-4b0611b8713b",
   "metadata": {},
   "outputs": [],
   "source": [
    "from pyspark.sql import SparkSession"
   ]
  },
  {
   "cell_type": "code",
   "execution_count": 25,
   "id": "cd23eaa3-2b48-40ac-bcac-d7055baa50a1",
   "metadata": {},
   "outputs": [],
   "source": [
    "spark = SparkSession.builder.appName(\"airbnbSparkonHDFS\").getOrCreate()"
   ]
  },
  {
   "cell_type": "code",
   "execution_count": 26,
   "id": "ee66c801-a70e-4c2b-805f-33e034c5f082",
   "metadata": {},
   "outputs": [],
   "source": [
    "hdfs_path = \"hdfs://localhost:9000/user/hadoop/\"\n",
    "file_path = hdfs_path + \"airbnb.csv\"\n",
    "df_air = spark.read.csv(path=file_path, header=True, inferSchema=True)\n",
    "df_air = df_air.fillna({\"overall_satisfaction\": 3.0})"
   ]
  },
  {
   "cell_type": "code",
   "execution_count": 27,
   "id": "72f9f03f-f6f3-4c43-9376-40c94ece9faf",
   "metadata": {},
   "outputs": [],
   "source": [
    "from pyspark.ml.feature import Bucketizer\n",
    "from pyspark.sql.functions import udf, avg, col, expr, count, collect_list, array_distinct, concat_ws\n",
    "from pyspark.sql.types import StringType\n"
   ]
  },
  {
   "cell_type": "code",
   "execution_count": 28,
   "id": "4c1ae005-720c-42bf-93b5-a5144b76d1d3",
   "metadata": {},
   "outputs": [],
   "source": [
    "bucketizer = Bucketizer(splits=[0, 100, 200, 300, 400, 500, 1000, 5000], inputCol ='price', outputCol='buckets')"
   ]
  },
  {
   "cell_type": "code",
   "execution_count": 29,
   "id": "db0ad68f-820c-4000-af65-e2f0d9e23061",
   "metadata": {},
   "outputs": [],
   "source": [
    "df_buck = bucketizer.setHandleInvalid(\"keep\").transform(df_air)"
   ]
  },
  {
   "cell_type": "code",
   "execution_count": 30,
   "id": "241ef5cc-3aeb-4916-b08c-1c5981a5fa19",
   "metadata": {},
   "outputs": [],
   "source": [
    "grouped_df = df_buck.groupBy(\"buckets\").agg(\n",
    "    avg(\"accommodates\").alias(\"accommodates_average\"),\n",
    "    expr(\"percentile_approx(accommodates, 0.5)\").alias(\"accommodates_median\"),\n",
    "    avg(\"bedrooms\").alias(\"bedrooms_average\"),\n",
    "    expr(\"percentile_approx(bedrooms, 0.5)\").alias(\"bedrooms_median\"),\n",
    "    avg(\"reviews\").alias(\"reviews_average\"),\n",
    "    expr(\"percentile_approx(reviews, 0.5)\").alias(\"reviews_median\"),\n",
    "    array_distinct(collect_list(\"neighborhood\")).alias(\"neighbor_list\"),\n",
    "    count(\"*\").alias(\"length\")\n",
    ").orderBy(\"buckets\")\n",
    "grouped_df = grouped_df.withColumn(\"neighbor_list\", concat_ws(\",\", col(\"neighbor_list\")))"
   ]
  },
  {
   "cell_type": "code",
   "execution_count": 31,
   "id": "f45285ee-0d8a-46ab-a2c3-301bf2b7612a",
   "metadata": {},
   "outputs": [],
   "source": [
    "scope = {0.0: '0-100', 1.0:'100-200', 2.0:'200-300', 3.0:'300-400', 4.0:'400-500', 5.0:'500-1000', 6.0:'1000-5000'}\n",
    "udf_scope = udf(lambda x: scope[x], StringType())\n",
    "grouped_df = grouped_df.withColumn(\"price_range\", udf_scope(\"buckets\"))\n",
    "grouped_df = grouped_df.select('price_range', 'accommodates_average', 'accommodates_median', 'bedrooms_average', \n",
    "                               'bedrooms_median', 'reviews_average', 'reviews_median', 'neighbor_list')"
   ]
  },
  {
   "cell_type": "code",
   "execution_count": 32,
   "id": "d86d8030-457d-4e4a-a0e6-c0473487f872",
   "metadata": {},
   "outputs": [
    {
     "name": "stdout",
     "output_type": "stream",
     "text": [
      "+-----------+--------------------+-------------------+------------------+---------------+-------------------+--------------+--------------------+\n",
      "|price_range|accommodates_average|accommodates_median|  bedrooms_average|bedrooms_median|    reviews_average|reviews_median|       neighbor_list|\n",
      "+-----------+--------------------+-------------------+------------------+---------------+-------------------+--------------+--------------------+\n",
      "|      0-100|   1.974025974025974|                  2|0.9897959183673469|            1.0| 21.000927643784788|             5|Allston,Dorcheste...|\n",
      "|    100-200|  2.9757869249394675|                  2|1.1011326860841424|            1.0| 17.102502017756255|             5|Jamaica Plain,Bea...|\n",
      "|    200-300|  3.8719298245614033|                  4| 1.536412078152753|            1.0| 13.719298245614034|             4|Back Bay,Jamaica ...|\n",
      "|    300-400|   4.812182741116751|                  5|  2.00507614213198|            2.0|  9.309644670050762|             4|South End,South B...|\n",
      "|    400-500|   4.488372093023256|                  4| 1.813953488372093|            1.0|  5.441860465116279|             1|Mission Hill,Down...|\n",
      "|   500-1000|   5.322916666666667|                  5|2.3958333333333335|            2.0|  5.635416666666667|             0|Back Bay,Fenway,J...|\n",
      "|  1000-5000|                 4.0|                  4|1.9090909090909092|            2.0|0.09090909090909091|             0|Charlestown,South...|\n",
      "+-----------+--------------------+-------------------+------------------+---------------+-------------------+--------------+--------------------+\n",
      "\n"
     ]
    }
   ],
   "source": [
    "grouped_df.show()"
   ]
  },
  {
   "cell_type": "code",
   "execution_count": 33,
   "id": "40623e45-be20-4dfe-96cd-e209a4961af0",
   "metadata": {},
   "outputs": [],
   "source": [
    "grouped_df.write.csv(hdfs_path + 'sorted_ranged_price.csv', header= True)"
   ]
  }
 ],
 "metadata": {
  "kernelspec": {
   "display_name": "Practicevenv",
   "language": "python",
   "name": "venv"
  },
  "language_info": {
   "codemirror_mode": {
    "name": "ipython",
    "version": 3
   },
   "file_extension": ".py",
   "mimetype": "text/x-python",
   "name": "python",
   "nbconvert_exporter": "python",
   "pygments_lexer": "ipython3",
   "version": "3.10.12"
  }
 },
 "nbformat": 4,
 "nbformat_minor": 5
}
