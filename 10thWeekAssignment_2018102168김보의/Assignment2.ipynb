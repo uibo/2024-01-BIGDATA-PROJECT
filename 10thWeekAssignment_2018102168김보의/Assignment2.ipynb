{
 "cells": [
  {
   "cell_type": "code",
   "execution_count": 6,
   "id": "b7a8be68-bb16-41c2-b653-4ca3b36caa47",
   "metadata": {},
   "outputs": [],
   "source": [
    "from pyspark.sql import SparkSession\n",
    "from pyspark.sql.functions import avg, max, min"
   ]
  },
  {
   "cell_type": "code",
   "execution_count": 7,
   "id": "0c4c965b-839e-478e-9182-203c50f5e64a",
   "metadata": {},
   "outputs": [],
   "source": [
    "spark = SparkSession.builder.appName(\"airbnbSparkonHDFS\").getOrCreate()"
   ]
  },
  {
   "cell_type": "code",
   "execution_count": 8,
   "id": "d18333d6-1cf6-4476-aa3d-3f7ef2dd5a0f",
   "metadata": {},
   "outputs": [],
   "source": [
    "hdfs_path = \"hdfs://localhost:9000/user/hadoop/\"\n",
    "file_path = hdfs_path + \"airbnb.csv\"\n",
    "df_air = spark.read.csv(path=file_path, header=True, inferSchema=True)\n",
    "df_air = df_air.fillna({\"overall_satisfaction\": 3.0})"
   ]
  },
  {
   "cell_type": "code",
   "execution_count": 9,
   "id": "7ea2450a-847a-4c93-ae43-1dff7efd028e",
   "metadata": {},
   "outputs": [
    {
     "name": "stdout",
     "output_type": "stream",
     "text": [
      "+--------------------+------------------+---------------------------+------------------+--------------+--------------+------------+------------+\n",
      "|        neighborhood|    avg of reviews|avg of overall_satisfaction|      avg of price|max of reviews|min of reviews|max of price|min of price|\n",
      "+--------------------+------------------+---------------------------+------------------+--------------+--------------+------------+------------+\n",
      "|             Allston| 10.31400966183575|          3.710144927536232|100.01932367149759|           118|             0|       550.0|        20.0|\n",
      "|            Back Bay|11.296819787985866|         3.9558303886925796|237.51590106007066|           283|             0|      1372.0|        41.0|\n",
      "|         Bay Village|10.947368421052632|         3.9473684210526314| 254.1578947368421|            47|             0|      1200.0|        81.0|\n",
      "|         Beacon Hill|              17.8|          4.087804878048781|215.90731707317073|           214|             0|       849.0|        42.0|\n",
      "|            Brighton|             13.25|                       3.85|113.95555555555555|           152|             0|       999.0|        10.0|\n",
      "|         Charlestown| 24.43076923076923|                        4.2|228.53846153846155|           198|             0|      1000.0|        55.0|\n",
      "|           Chinatown|11.909090909090908|         3.8545454545454545|254.92727272727274|           172|             0|       600.0|        92.0|\n",
      "|          Dorchester|              25.0|                    4.03125|            91.575|           262|             0|       395.0|        30.0|\n",
      "|            Downtown|14.671052631578947|         3.9210526315789473|241.18421052631578|           188|             0|      1000.0|        38.0|\n",
      "|         East Boston| 28.53174603174603|          4.182539682539683|115.48412698412699|           281|             0|       300.0|        35.0|\n",
      "|              Fenway| 8.094594594594595|         3.6621621621621623|218.77027027027026|           223|             0|      4000.0|        25.0|\n",
      "|           Hyde Park| 9.615384615384615|          3.923076923076923| 92.57692307692308|            53|             0|       250.0|        40.0|\n",
      "|       Jamaica Plain|22.406349206349205|          4.177777777777778|140.41587301587302|           244|             0|       675.0|        24.0|\n",
      "|    Leather District|             9.125|                        4.0|            342.75|            27|             0|       571.0|       159.0|\n",
      "|Longwood Medical ...|52.333333333333336|          4.083333333333333| 99.33333333333333|           115|             0|       149.0|        60.0|\n",
      "|            Mattapan|              14.4|                      3.675|             78.65|            69|             0|       169.0|        44.0|\n",
      "|        Mission Hill|11.346534653465346|          3.633663366336634|132.16831683168317|           385|             0|       872.0|        27.0|\n",
      "|           North End|25.401515151515152|          4.140151515151516|183.13636363636363|           249|             0|       600.0|        35.0|\n",
      "|          Roslindale|26.696428571428573|          4.491071428571429| 94.60714285714286|           147|             0|       250.0|        40.0|\n",
      "|             Roxbury|22.802721088435373|          4.085034013605442| 148.3673469387755|           154|             0|      1400.0|        28.0|\n",
      "+--------------------+------------------+---------------------------+------------------+--------------+--------------+------------+------------+\n",
      "only showing top 20 rows\n",
      "\n"
     ]
    }
   ],
   "source": [
    "df_air = df_air.groupby(\"neighborhood\").agg(\n",
    "    avg(\"reviews\").alias(\"avg of reviews\"),\n",
    "    avg(\"overall_satisfaction\").alias(\"avg of overall_satisfaction\"),\n",
    "    avg(\"price\").alias(\"avg of price\"),\n",
    "    max(\"reviews\").alias(\"max of reviews\"),\n",
    "    min(\"reviews\").alias(\"min of reviews\"),\n",
    "    max(\"price\").alias(\"max of price\"),\n",
    "    min(\"price\").alias(\"min of price\"),\n",
    ").orderBy(\"neighborhood\")\n",
    "df_air.show()"
   ]
  },
  {
   "cell_type": "code",
   "execution_count": 10,
   "id": "ad1ef04e-d7e7-468a-a80f-75cf4f06caa3",
   "metadata": {},
   "outputs": [],
   "source": [
    "df_air.write.csv(hdfs_path + 'sorted_neighborhood_factors.csv', header= True)"
   ]
  }
 ],
 "metadata": {
  "kernelspec": {
   "display_name": "Practicevenv",
   "language": "python",
   "name": "venv"
  },
  "language_info": {
   "codemirror_mode": {
    "name": "ipython",
    "version": 3
   },
   "file_extension": ".py",
   "mimetype": "text/x-python",
   "name": "python",
   "nbconvert_exporter": "python",
   "pygments_lexer": "ipython3",
   "version": "3.10.12"
  }
 },
 "nbformat": 4,
 "nbformat_minor": 5
}
