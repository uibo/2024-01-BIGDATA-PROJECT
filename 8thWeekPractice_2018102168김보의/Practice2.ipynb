{
 "cells": [
  {
   "cell_type": "code",
   "execution_count": 1,
   "id": "f5d5c139-f87b-487d-89fe-cb4cfb59820f",
   "metadata": {},
   "outputs": [
    {
     "name": "stderr",
     "output_type": "stream",
     "text": [
      "24/05/14 11:32:15 WARN Utils: Your hostname, boui resolves to a loopback address: 127.0.1.1; using 192.168.148.131 instead (on interface ens33)\n",
      "24/05/14 11:32:15 WARN Utils: Set SPARK_LOCAL_IP if you need to bind to another address\n",
      "Setting default log level to \"WARN\".\n",
      "To adjust logging level use sc.setLogLevel(newLevel). For SparkR, use setLogLevel(newLevel).\n",
      "24/05/14 11:32:16 WARN NativeCodeLoader: Unable to load native-hadoop library for your platform... using builtin-java classes where applicable\n",
      "24/05/14 11:32:17 WARN Utils: Service 'SparkUI' could not bind on port 4040. Attempting port 4041.\n"
     ]
    }
   ],
   "source": [
    "import pyspark\n",
    "sc = pyspark.SparkContext(appName=\"SparkContext\")"
   ]
  },
  {
   "cell_type": "code",
   "execution_count": 2,
   "id": "331b4499-bbbc-43b9-a34b-986f819ceb4b",
   "metadata": {},
   "outputs": [
    {
     "name": "stderr",
     "output_type": "stream",
     "text": [
      "                                                                                \r"
     ]
    },
    {
     "data": {
      "text/plain": [
       "['Alex loves writing', 'Alex loves gym', 'Bert loves swimming']"
      ]
     },
     "execution_count": 2,
     "metadata": {},
     "output_type": "execute_result"
    }
   ],
   "source": [
    "neighbors = [(0, \"Alex\"), (1, \"Bert\"), (2, \"Curt\"), (3, \"Don\")]\n",
    "nbRDD = sc.parallelize(neighbors)\n",
    "hobbiesList = [(0, \"writing\"), (0, \"gym\"), (1, \"swimming\")]\n",
    "hbRDD = sc.parallelize(hobbiesList)\n",
    "\n",
    "hbRDD.leftOuterJoin(nbRDD) \\\n",
    "    .map(lambda a: f'{a[1][1]} loves {a[1][0]}') \\\n",
    "    .collect()\n",
    "\n"
   ]
  }
 ],
 "metadata": {
  "kernelspec": {
   "display_name": "test-venv",
   "language": "python",
   "name": "venv"
  },
  "language_info": {
   "codemirror_mode": {
    "name": "ipython",
    "version": 3
   },
   "file_extension": ".py",
   "mimetype": "text/x-python",
   "name": "python",
   "nbconvert_exporter": "python",
   "pygments_lexer": "ipython3",
   "version": "3.10.12"
  }
 },
 "nbformat": 4,
 "nbformat_minor": 5
}
