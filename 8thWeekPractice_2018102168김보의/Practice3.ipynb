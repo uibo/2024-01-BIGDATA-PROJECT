{
 "cells": [
  {
   "cell_type": "code",
   "execution_count": 1,
   "id": "ef52c3bd-6713-4151-b0eb-371e517e0975",
   "metadata": {},
   "outputs": [
    {
     "name": "stderr",
     "output_type": "stream",
     "text": [
      "24/05/14 11:32:49 WARN Utils: Your hostname, boui resolves to a loopback address: 127.0.1.1; using 192.168.148.131 instead (on interface ens33)\n",
      "24/05/14 11:32:49 WARN Utils: Set SPARK_LOCAL_IP if you need to bind to another address\n",
      "Setting default log level to \"WARN\".\n",
      "To adjust logging level use sc.setLogLevel(newLevel). For SparkR, use setLogLevel(newLevel).\n",
      "24/05/14 11:32:49 WARN NativeCodeLoader: Unable to load native-hadoop library for your platform... using builtin-java classes where applicable\n",
      "24/05/14 11:32:50 WARN Utils: Service 'SparkUI' could not bind on port 4040. Attempting port 4041.\n",
      "24/05/14 11:32:50 WARN Utils: Service 'SparkUI' could not bind on port 4041. Attempting port 4042.\n"
     ]
    }
   ],
   "source": [
    "import json\n",
    "import pyspark\n",
    "sc = pyspark.SparkContext(appName=\"SparkContext\")"
   ]
  },
  {
   "cell_type": "code",
   "execution_count": 2,
   "id": "1845fc7d-d3c1-44a2-8e55-3520b429e1eb",
   "metadata": {},
   "outputs": [],
   "source": [
    "def lovePandas(line):\n",
    "    if 'lovePandas' in line:\n",
    "        if line['lovePandas'] == True:\n",
    "            return True\n",
    "    return False\n",
    "    \n"
   ]
  },
  {
   "cell_type": "code",
   "execution_count": 3,
   "id": "ea45be36-d4b2-4399-b516-c26cca32eaac",
   "metadata": {},
   "outputs": [
    {
     "name": "stderr",
     "output_type": "stream",
     "text": [
      "                                                                                \r"
     ]
    },
    {
     "data": {
      "text/plain": [
       "[{'name': 'Sparky The Bear', 'lovePandas': True},\n",
       " {'name': 'Holden'},\n",
       " {'name': 'Sparky The Bear',\n",
       "  'lovePandas': True,\n",
       "  'knows': {'friends': ['holden']}}]"
      ]
     },
     "execution_count": 3,
     "metadata": {},
     "output_type": "execute_result"
    }
   ],
   "source": [
    "input = sc.textFile(\"./pandainfo.json\")\n",
    "json_data = input.map(lambda x: json.loads(x))\n",
    "json_data.collect()"
   ]
  },
  {
   "cell_type": "code",
   "execution_count": 5,
   "id": "6bb4542a-6d4e-44b2-bd63-725893a35ac3",
   "metadata": {},
   "outputs": [],
   "source": [
    "pandas_data = json_data.filter(lovePandas).map(lambda x: json.dumps(x))\n",
    "pandas_data.saveAsTextFile(\"./output_pandas\")"
   ]
  }
 ],
 "metadata": {
  "kernelspec": {
   "display_name": "test-venv",
   "language": "python",
   "name": "venv"
  },
  "language_info": {
   "codemirror_mode": {
    "name": "ipython",
    "version": 3
   },
   "file_extension": ".py",
   "mimetype": "text/x-python",
   "name": "python",
   "nbconvert_exporter": "python",
   "pygments_lexer": "ipython3",
   "version": "3.10.12"
  }
 },
 "nbformat": 4,
 "nbformat_minor": 5
}
