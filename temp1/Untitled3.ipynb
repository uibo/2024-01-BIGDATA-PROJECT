{
 "cells": [
  {
   "cell_type": "code",
   "execution_count": 1,
   "id": "4a7a9f74",
   "metadata": {},
   "outputs": [
    {
     "name": "stdout",
     "output_type": "stream",
     "text": [
      "3.7.9 (v3.7.9:13c94747c7, Aug 15 2020, 01:31:08) \n",
      "[Clang 6.0 (clang-600.0.57)]\n"
     ]
    }
   ],
   "source": [
    "import os\n",
    "import sys\n",
    "os.environ['SPARK_HOME'] = '/Users/seonghwi/spark-2.4.8-bin-hadoop2.7'\n",
    "print(sys.version)\n",
    "import findspark\n",
    "findspark.init()\n",
    "import pyspark\n",
    "from pyspark.sql import SparkSession\n"
   ]
  },
  {
   "cell_type": "code",
   "execution_count": 2,
   "id": "d50871c0",
   "metadata": {},
   "outputs": [
    {
     "name": "stderr",
     "output_type": "stream",
     "text": [
      "24/05/26 16:53:03 WARN NativeCodeLoader: Unable to load native-hadoop library for your platform... using builtin-java classes where applicable\n",
      "Using Spark's default log4j profile: org/apache/spark/log4j-defaults.properties\n",
      "Setting default log level to \"WARN\".\n",
      "To adjust logging level use sc.setLogLevel(newLevel). For SparkR, use setLogLevel(newLevel).\n"
     ]
    }
   ],
   "source": [
    "spark = SparkSession.builder \\\n",
    "    .appName(\"CSV Loader\") \\\n",
    "    .getOrCreate()\n"
   ]
  },
  {
   "cell_type": "code",
   "execution_count": 3,
   "id": "209fb629",
   "metadata": {},
   "outputs": [],
   "source": [
    "df = spark.read.csv(\"/Users/seonghwi/workspace/iphone14_soldout_Post_site.csv\", header=True, inferSchema=True)\n"
   ]
  },
  {
   "cell_type": "code",
   "execution_count": 4,
   "id": "616efaec",
   "metadata": {},
   "outputs": [
    {
     "name": "stdout",
     "output_type": "stream",
     "text": [
      "+---------------------------------+----------------------------------+--------------------+--------------------+--------+------+------+----+\n",
      "|                            title|                           context|               price|         upload_date|location|status|imgUrl| url|\n",
      "+---------------------------------+----------------------------------+--------------------+--------------------+--------+------+------+----+\n",
      "|            아이폰14 퍼플 128기가|        128기가 배터리90프로입니다|                null|                null|    null|  null|  null|null|\n",
      "|    찍힌곳 없이 깨끗한 상태입니다|                              null|                null|                null|    null|  null|  null|null|\n",
      "|                  ,600000,4일 전,|                              null|                null|                null|    null|  null|  null|null|\n",
      "|                        정발산동\"|                           soldout|https://img2.joon...|https://web.joong...|    null|  null|  null|null|\n",
      "|         아이폰 14 128기가 자급제|           *실사용기간 : 1년반정도|                null|                null|    null|  null|  null|null|\n",
      "|                *배터리성능 : 89%|                              null|                null|                null|    null|  null|  null|null|\n",
      "|                          *풀박스|사생활보호필름 부착되어있고 1장...|                null|                null|    null|  null|  null|null|\n",
      "|*사진에있듯이 찍힘과 카메라쪽 ...|                              null|                null|                null|    null|  null|  null|null|\n",
      "| 직거래우선합니다 쿨거시 에눌가능|                              null|                null|                null|    null|  null|  null|null|\n",
      "|                  ,550000,5일 전,|                              null|                null|                null|    null|  null|  null|null|\n",
      "|                          증평읍\"|                           soldout|https://img2.joon...|https://web.joong...|    null|  null|  null|null|\n",
      "|      아이폰 14 128G 화이트 배...|                    정상해지되었고|                null|                null|    null|  null|  null|null|\n",
      "|             배터리효율96% 입니다|                              null|                null|                null|    null|  null|  null|null|\n",
      "|                부산 연산동입니다|                              null|                null|                null|    null|  null|  null|null|\n",
      "|                 ,600000,11일 전,|                              null|                null|                null|    null|  null|  null|null|\n",
      "|                       연산제1동\"|                           soldout|https://img2.joon...|https://web.joong...|    null|  null|  null|null|\n",
      "|          아이폰 12 that's up ...|  ※ 카페 상품 게시글은 자동으로...|                null|                null|    null|  null|  null|null|\n",
      "| ※ 등록한 게시글이 회원의 신고...|                              null|                null|                null|    null|  null|  null|null|\n",
      "|             ─────────────────── |                              null|                null|                null|    null|  null|  null|null|\n",
      "|    📢 제목에 \"\"제조사/ 브랜드...|     보다 빠른 판매가 가능합니다! |                null|                null|    null|  null|  null|null|\n",
      "+---------------------------------+----------------------------------+--------------------+--------------------+--------+------+------+----+\n",
      "only showing top 20 rows\n",
      "\n",
      "root\n",
      " |-- title: string (nullable = true)\n",
      " |-- context: string (nullable = true)\n",
      " |-- price: string (nullable = true)\n",
      " |-- upload_date: string (nullable = true)\n",
      " |-- location: string (nullable = true)\n",
      " |-- status: string (nullable = true)\n",
      " |-- imgUrl: string (nullable = true)\n",
      " |-- url: string (nullable = true)\n",
      "\n"
     ]
    }
   ],
   "source": [
    "df.show()\n",
    "df.printSchema()\n"
   ]
  },
  {
   "cell_type": "code",
   "execution_count": 11,
   "id": "85b195cd",
   "metadata": {},
   "outputs": [
    {
     "name": "stdout",
     "output_type": "stream",
     "text": [
      "+---------------------------------+----------------------------------+--------------------+--------------------+--------+------+------+----+--------+---------+\n",
      "|                            title|                           context|               price|         upload_date|location|status|imgUrl| url|category|has_crack|\n",
      "+---------------------------------+----------------------------------+--------------------+--------------------+--------+------+------+----+--------+---------+\n",
      "|            아이폰14 퍼플 128기가|        128기가 배터리90프로입니다|                null|                null|    null|  null|  null|null|    기타|    false|\n",
      "|    찍힌곳 없이 깨끗한 상태입니다|                              null|                null|                null|    null|  null|  null|null|    기타|    false|\n",
      "|                  ,600000,4일 전,|                              null|                null|                null|    null|  null|  null|null|    기타|    false|\n",
      "|                        정발산동\"|                           soldout|https://img2.joon...|https://web.joong...|    null|  null|  null|null|    기타|    false|\n",
      "|         아이폰 14 128기가 자급제|           *실사용기간 : 1년반정도|                null|                null|    null|  null|  null|null|    기타|    false|\n",
      "|                *배터리성능 : 89%|                              null|                null|                null|    null|  null|  null|null|    기타|    false|\n",
      "|                          *풀박스|사생활보호필름 부착되어있고 1장...|                null|                null|    null|  null|  null|null|    기타|    false|\n",
      "|*사진에있듯이 찍힘과 카메라쪽 ...|                              null|                null|                null|    null|  null|  null|null|    기타|    false|\n",
      "| 직거래우선합니다 쿨거시 에눌가능|                              null|                null|                null|    null|  null|  null|null|    기타|    false|\n",
      "|                  ,550000,5일 전,|                              null|                null|                null|    null|  null|  null|null|    기타|    false|\n",
      "|                          증평읍\"|                           soldout|https://img2.joon...|https://web.joong...|    null|  null|  null|null|    기타|    false|\n",
      "|      아이폰 14 128G 화이트 배...|                    정상해지되었고|                null|                null|    null|  null|  null|null|    기타|    false|\n",
      "|             배터리효율96% 입니다|                              null|                null|                null|    null|  null|  null|null|    기타|    false|\n",
      "|                부산 연산동입니다|                              null|                null|                null|    null|  null|  null|null|    기타|    false|\n",
      "|                 ,600000,11일 전,|                              null|                null|                null|    null|  null|  null|null|    기타|    false|\n",
      "|                       연산제1동\"|                           soldout|https://img2.joon...|https://web.joong...|    null|  null|  null|null|    기타|    false|\n",
      "|          아이폰 12 that's up ...|  ※ 카페 상품 게시글은 자동으로...|                null|                null|    null|  null|  null|null|    기타|    false|\n",
      "| ※ 등록한 게시글이 회원의 신고...|                              null|                null|                null|    null|  null|  null|null|    기타|    false|\n",
      "|             ─────────────────── |                              null|                null|                null|    null|  null|  null|null|    기타|    false|\n",
      "|    📢 제목에 \"\"제조사/ 브랜드...|     보다 빠른 판매가 가능합니다! |                null|                null|    null|  null|  null|null|    기타|    false|\n",
      "+---------------------------------+----------------------------------+--------------------+--------------------+--------+------+------+----+--------+---------+\n",
      "only showing top 20 rows\n",
      "\n"
     ]
    }
   ],
   "source": [
    "from pyspark.sql.functions import udf\n",
    "from pyspark.sql.types import StringType,BooleanType\n",
    "def check_crack(context):\n",
    "    crack_keywords = ['깨짐', '금', '크랙', '파손']  \n",
    "    for keyword in crack_keywords:\n",
    "        if keyword in title:\n",
    "            return True\n",
    "    return False \n",
    "\n",
    "\n",
    "categorize_udf = udf(categorize_title, StringType())\n",
    "crack_udf = udf(check_crack, BooleanType())\n",
    "\n",
    "\n",
    "df = df.withColumn(\"category\", categorize_udf(df[\"title\"]))\n",
    "df = df.withColumn(\"has_crack\", crack_udf(df[\"title\"]))\n",
    "\n",
    "\n",
    "df.show()"
   ]
  },
  {
   "cell_type": "code",
   "execution_count": 13,
   "id": "5c3b81fb",
   "metadata": {},
   "outputs": [],
   "source": [
    "output_path = \"/Users/seonghwi/workspace/iphone14_soldout_Post_site_categorized.csv\"\n",
    "df.write.csv(output_path, header=True, mode='overwrite')\n",
    "\n"
   ]
  },
  {
   "cell_type": "code",
   "execution_count": null,
   "id": "cb13bebc",
   "metadata": {},
   "outputs": [],
   "source": []
  }
 ],
 "metadata": {
  "kernelspec": {
   "display_name": "Python 3 (ipykernel)",
   "language": "python",
   "name": "python3"
  },
  "language_info": {
   "codemirror_mode": {
    "name": "ipython",
    "version": 3
   },
   "file_extension": ".py",
   "mimetype": "text/x-python",
   "name": "python",
   "nbconvert_exporter": "python",
   "pygments_lexer": "ipython3",
   "version": "3.10.12"
  }
 },
 "nbformat": 4,
 "nbformat_minor": 5
}
