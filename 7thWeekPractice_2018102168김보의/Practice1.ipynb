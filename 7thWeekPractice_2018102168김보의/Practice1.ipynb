{
 "cells": [
  {
   "cell_type": "code",
   "execution_count": 1,
   "id": "bd8ea935-8c24-48fb-8d02-e42a8d7feb0f",
   "metadata": {},
   "outputs": [],
   "source": [
    "import pandas as pd\n",
    "import numpy as np"
   ]
  },
  {
   "cell_type": "code",
   "execution_count": 2,
   "id": "fb14970d-ca44-4a07-8da6-5ff2698a25ff",
   "metadata": {},
   "outputs": [],
   "source": [
    "file_name = 'airbnb.csv'\n",
    "df_air = pd.read_csv(file_name)\n",
    "df_air['overall_satisfaction'] = df_air.overall_satisfaction.fillna(3)"
   ]
  },
  {
   "cell_type": "code",
   "execution_count": 3,
   "id": "87aec7f5-3d61-4c4f-b48e-f6dc6c4d6f22",
   "metadata": {},
   "outputs": [
    {
     "data": {
      "text/plain": [
       "room_id   host_id \n",
       "11757251  26873897      2.134\n",
       "12246137  30283594      3.000\n",
       "10445235  35019081      3.000\n",
       "9132081   47565180      3.000\n",
       "9906565   6807512       3.000\n",
       "                       ...   \n",
       "815639    3637081      98.622\n",
       "31796     119019      103.536\n",
       "1497879   2776892     110.718\n",
       "414419    2027295     111.474\n",
       "66288     324630      149.530\n",
       "Name: total_score, Length: 3277, dtype: float64"
      ]
     },
     "execution_count": 3,
     "metadata": {},
     "output_type": "execute_result"
    }
   ],
   "source": [
    "df_score = df_air.set_index(['room_id', 'host_id'])\n",
    "df_score['total_score'] = df_score['overall_satisfaction'] + (df_score['reviews'] * 0.378)\n",
    "df_score_ascending = df_score.loc[:, 'total_score'].sort_values(ascending = True)\n",
    "df_score_descending = df_score.loc[:, 'total_score'].sort_values(ascending = False)\n",
    "df_score_ascending"
   ]
  },
  {
   "cell_type": "code",
   "execution_count": 4,
   "id": "e33a3532-d11d-4205-baf5-4efb7424f75a",
   "metadata": {},
   "outputs": [],
   "source": [
    "df_score_ascending.to_csv('./sorted_total_score_ascend.csv')\n",
    "df_score_descending.to_csv('./sorted_total_score_descend.csv')"
   ]
  }
 ],
 "metadata": {
  "kernelspec": {
   "display_name": "test_venv",
   "language": "python",
   "name": "venv"
  },
  "language_info": {
   "codemirror_mode": {
    "name": "ipython",
    "version": 3
   },
   "file_extension": ".py",
   "mimetype": "text/x-python",
   "name": "python",
   "nbconvert_exporter": "python",
   "pygments_lexer": "ipython3",
   "version": "3.10.12"
  }
 },
 "nbformat": 4,
 "nbformat_minor": 5
}
